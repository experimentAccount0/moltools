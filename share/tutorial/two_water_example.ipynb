{
 "cells": [
  {
   "cell_type": "markdown",
   "metadata": {
    "collapsed": false
   },
   "source": [
    "# Running a second order Applequist interaction between two water molecules\n",
    "This tutorial will describe the steps needed to calculate the classical polarizability and hyperpolarizability of two water molecules interacting, using the localized properties of each molecule obtained seperately from quantum mechanics.\n",
    "\n",
    "\n",
    "------------\n",
    "\n",
    "\n",
    "# Step 1\n",
    "## Obtaining the DALTON source code\n",
    "\n",
    "The DALTON source can be obtained from http://www.daltonprogram.org/. It uses an LGPL license.\n",
    "\n",
    "-----------\n",
    "\n",
    "To run a DALTON calculation once it is installed, execute the dalton runscript:\n",
    "\n",
    "```bash\n",
    ">>> dalton -get input.dal molecule.mol\n",
    "```\n",
    "\n",
    "To see a list of options such as MPI core usage and temporary directory setup, execute:\n",
    "\n",
    "```bash\n",
    ">>> dalton\n",
    "```\n"
   ]
  },
  {
   "cell_type": "markdown",
   "metadata": {},
   "source": [
    "#### The following input file should be used for a quadratic response calculation\n",
    "\n",
    "# dalton.inp"
   ]
  },
  {
   "cell_type": "raw",
   "metadata": {},
   "source": [
    "**DALTON INPUT\n",
    ".RUN RESPONSE\n",
    ".DIRECT\n",
    ".PARALLELL\n",
    "**WAVE FUNCTION\n",
    ".HF\n",
    "**RESPONSE\n",
    ".PROPAV\n",
    "XDIPLEN\n",
    ".PROPAV\n",
    "YDIPLEN\n",
    ".PROPAV\n",
    "ZDIPLEN\n",
    "*QUADRATIC\n",
    ".DIPLEN\n",
    "**END OF DALTON INPUT"
   ]
  },
  {
   "cell_type": "markdown",
   "metadata": {},
   "source": [
    "#### The following molecule file specifies one TIP3P water molecule in the xz-plane with its dipole pointing in the positive z-axis direction\n",
    "## molecule.inp"
   ]
  },
  {
   "cell_type": "raw",
   "metadata": {},
   "source": [
    "ATOMBASIS\n",
    "Comment 1\n",
    "Comment 2\n",
    "Atomtypes=2 Charge=0 Nosymm\n",
    "Charge=8.0 Atoms=1 Basis=ano-1 4 3 1\n",
    "O       0.00000   0.00000   0.00000\n",
    "Charge=1.0 Atoms=2 Basis=ano-1 2\n",
    "H       1.43043   0.00000   1.10716\n",
    "H      -1.43043   0.00000   1.10716"
   ]
  },
  {
   "cell_type": "markdown",
   "metadata": {
    "collapsed": true
   },
   "source": [
    "## Step 2 obtain properties from LoProp"
   ]
  },
  {
   "cell_type": "code",
   "execution_count": 5,
   "metadata": {
    "collapsed": false
   },
   "outputs": [
    {
     "name": "stdout",
     "output_type": "stream",
     "text": [
      "0-MOL-OW 0.000000 0.000000 0.000000\n"
     ]
    }
   ],
   "source": [
    "print w.o"
   ]
  },
  {
   "cell_type": "code",
   "execution_count": null,
   "metadata": {
    "collapsed": true
   },
   "outputs": [],
   "source": []
  }
 ],
 "metadata": {
  "kernelspec": {
   "display_name": "Python 2",
   "language": "python2",
   "name": "python2"
  },
  "language_info": {
   "codemirror_mode": {
    "name": "ipython",
    "version": 2
   },
   "file_extension": ".py",
   "mimetype": "text/x-python",
   "name": "python",
   "nbconvert_exporter": "python",
   "pygments_lexer": "ipython2",
   "version": "2.7.11"
  }
 },
 "nbformat": 4,
 "nbformat_minor": 0
}
