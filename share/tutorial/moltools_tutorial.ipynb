{
 "cells": [
  {
   "cell_type": "markdown",
   "metadata": {},
   "source": [
    "# Calculate the polarizability for two water molecules the fast and simple way"
   ]
  },
  {
   "cell_type": "markdown",
   "metadata": {},
   "source": [
    "The tutorial https://github.com/fishstamp82/moltools/blob/docs/share/tutorial/two_water_example.ipynb  \n",
    "demonstrates the step-by-step process in how the Applequist equations are solved from quantum mechanical properties.\n",
    "\n",
    "---------\n",
    "\n",
    "**This** tutorial will perform all the above steps in a more compact, and faster way, using the moltools package.\n",
    "\n",
    "----------"
   ]
  },
  {
   "cell_type": "markdown",
   "metadata": {},
   "source": [
    "Clone the entire repository, which will come with loprop and pd automatically:\n",
    "    \n",
    "```bash\n",
    ">>> git clone --recursive https://github.com/fishstamp82/moltools.git\n",
    "```\n",
    "\n",
    "(*Optional*) If you want 100000x speed excecution, make sure you have Cython and build the cython extensions of vahtras/pd by running the following script:\n",
    "\n",
    "```bash\n",
    ">>> moltools/scripts/build_cython.sh\n",
    "```\n"
   ]
  },
  {
   "cell_type": "code",
   "execution_count": null,
   "metadata": {
    "collapsed": true
   },
   "outputs": [],
   "source": []
  }
 ],
 "metadata": {
  "kernelspec": {
   "display_name": "Python 2",
   "language": "python2",
   "name": "python2"
  },
  "language_info": {
   "codemirror_mode": {
    "name": "ipython",
    "version": 2
   },
   "file_extension": ".py",
   "mimetype": "text/x-python",
   "name": "python",
   "nbconvert_exporter": "python",
   "pygments_lexer": "ipython2",
   "version": "2.7.11"
  }
 },
 "nbformat": 4,
 "nbformat_minor": 0
}
