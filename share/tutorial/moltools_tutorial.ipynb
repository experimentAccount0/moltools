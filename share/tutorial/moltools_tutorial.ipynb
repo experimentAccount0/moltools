{
 "cells": [
  {
   "cell_type": "markdown",
   "metadata": {},
   "source": [
    "# Calculate the hyperpolarizability for two water molecules the fast and simple way"
   ]
  },
  {
   "cell_type": "markdown",
   "metadata": {},
   "source": [
    "The tutorial https://github.com/fishstamp82/moltools/blob/docs/share/tutorial/two_water_example.ipynb  \n",
    "demonstrates the step-by-step process in how the Applequist equations are solved from quantum mechanical properties,\n",
    "all the information is given explicitly to remove doubts in how the procedure looks.\n",
    "\n",
    "---------\n",
    "\n",
    "**This** tutorial will perform all the above steps in a more compact, and faster way, using the moltools package.\n",
    "\n",
    "----------"
   ]
  },
  {
   "cell_type": "markdown",
   "metadata": {},
   "source": [
    "## DALTON\n",
    "In this tutorial, we will be running DALTON from inside python. For this we will utilize the full path to the DALTON runscript. The location will be '/home/user/repos/dalton/build_gnu/dalton', but is of course custom to every user.\n"
   ]
  },
  {
   "cell_type": "markdown",
   "metadata": {},
   "source": [
    "## Moltools"
   ]
  },
  {
   "cell_type": "markdown",
   "metadata": {},
   "source": [
    "Clone the entire repository, which will come with loprop and pd automatically:\n",
    "    \n",
    "```bash\n",
    "$> git clone --recursive https://github.com/fishstamp82/moltools.git\n",
    "```\n",
    "\n",
    "\n",
    "(*Optional, but **highly recommended***) If you want optimized parallel excecution, make sure you have Cython and build the cython extensions of vahtras/pd by running the following script:\n",
    "\n",
    "```bash\n",
    "$> moltools/scripts/build_cython.sh\n",
    "```\n",
    "\n"
   ]
  },
  {
   "cell_type": "markdown",
   "metadata": {
    "collapsed": true
   },
   "source": [
    "**Make sure that the path to moltools is in your PYTHONPATH env variable**, and run an ipython console"
   ]
  },
  {
   "cell_type": "markdown",
   "metadata": {},
   "source": [
    "```bash\n",
    "$> ipython\n",
    "```"
   ]
  },
  {
   "cell_type": "code",
   "execution_count": 16,
   "metadata": {
    "collapsed": true
   },
   "outputs": [],
   "source": [
    "DALTON = '/home/user/repos/dalton/build_gnu/dalton'"
   ]
  },
  {
   "cell_type": "code",
   "execution_count": 2,
   "metadata": {
    "collapsed": false
   },
   "outputs": [],
   "source": [
    "from moltools import *"
   ]
  },
  {
   "cell_type": "markdown",
   "metadata": {},
   "source": [
    "The get_standard method creates a Water instance, with the geometry of a TIP3P water model. It's oxygen is placed in origo, the molecule in the xz-plane, with it' electronic dipole pointing in the positive z-axis"
   ]
  },
  {
   "cell_type": "code",
   "execution_count": 3,
   "metadata": {
    "collapsed": true
   },
   "outputs": [],
   "source": [
    "w = Water.get_standard()"
   ]
  },
  {
   "cell_type": "markdown",
   "metadata": {},
   "source": [
    "Take a look at it"
   ]
  },
  {
   "cell_type": "code",
   "execution_count": 4,
   "metadata": {
    "collapsed": false
   },
   "outputs": [],
   "source": [
    "w.plot()"
   ]
  },
  {
   "cell_type": "markdown",
   "metadata": {},
   "source": [
    "the molecular property of this water molecule is accesible via *Water*.Property or *Water*.p"
   ]
  },
  {
   "cell_type": "code",
   "execution_count": 5,
   "metadata": {
    "collapsed": false
   },
   "outputs": [
    {
     "name": "stdout",
     "output_type": "stream",
     "text": [
      "{'beta': array([ 0.,  0.,  0.,  0.,  0.,  0.,  0.,  0.,  0.,  0.]), 'alpha': array([ 0.,  0.,  0.,  0.,  0.,  0.]), 'charge': 0.0, 'dipole': array([ 0.,  0.,  0.]), 'quadrupole': array([ 0.,  0.,  0.,  0.,  0.,  0.])}\n"
     ]
    }
   ],
   "source": [
    "print w.p"
   ]
  },
  {
   "cell_type": "markdown",
   "metadata": {},
   "source": [
    "All properties are zero. Let's obtain properties via QM using DALTON.\n"
   ]
  },
  {
   "cell_type": "code",
   "execution_count": 6,
   "metadata": {
    "collapsed": false
   },
   "outputs": [],
   "source": [
    "DALTON = '/home/ignat/repos/dalton/build_gnu/dalton'\n",
    "\n",
    "\n",
    "w.props_from_qm( method = 'hfqua', #hf is Hartree-Fock, qua is Quadratic response (LoProp Beta)\n",
    "                dalpath = DALTON, \n",
    "                tmpdir = '/tmp',\n",
    "               )"
   ]
  },
  {
   "cell_type": "markdown",
   "metadata": {},
   "source": [
    "Now the properties are non-zero"
   ]
  },
  {
   "cell_type": "code",
   "execution_count": 7,
   "metadata": {
    "collapsed": false
   },
   "outputs": [
    {
     "name": "stdout",
     "output_type": "stream",
     "text": [
      "Charge of the water molecule: 1.00000000058e-07\n",
      "Dipole moment of oxygen: -0.6638767\n",
      "Dipole moment of the water molecule: [ 0.          0.          0.85412685]\n",
      "Dipole moment of oxygen: [ 0.         0.         0.3450972]\n"
     ]
    }
   ],
   "source": [
    "print \"Charge of the water molecule:\" , w.p.q\n",
    "print \"Dipole moment of oxygen:\" , w.o.p.q\n",
    "\n",
    "print \"Dipole moment of the water molecule:\" , w.p.d\n",
    "print \"Dipole moment of oxygen:\" , w.o.p.d"
   ]
  },
  {
   "cell_type": "markdown",
   "metadata": {},
   "source": [
    "### Now it is straightforward to calculate the properties of individual molecules.\n",
    "\n",
    "We now create an additional water molecule, translate it to (x, y, z) = (0, 0, 5 ), and calculate the Applequist beta.\n"
   ]
  },
  {
   "cell_type": "code",
   "execution_count": 8,
   "metadata": {
    "collapsed": true
   },
   "outputs": [],
   "source": [
    "water2 = Water.get_standard().t(0, 0, 5)\n",
    "water2.props_from_qm( method = 'hfqua', #hf is Hartree-Fock, qua is Quadratic response (LoProp Beta)\n",
    "                dalpath = DALTON, \n",
    "                tmpdir = '/tmp',\n",
    "                )"
   ]
  },
  {
   "cell_type": "markdown",
   "metadata": {},
   "source": [
    "Using Cluster, we group the molecules to produce a list of Applequist point dipoles."
   ]
  },
  {
   "cell_type": "code",
   "execution_count": 9,
   "metadata": {
    "collapsed": true
   },
   "outputs": [],
   "source": [
    "c = Cluster( w, water2 )\n",
    "c.populate_bonds()"
   ]
  },
  {
   "cell_type": "code",
   "execution_count": 10,
   "metadata": {
    "collapsed": true
   },
   "outputs": [],
   "source": [
    "#Uncomment to visualize it\n",
    "\n",
    "#c.plot()"
   ]
  },
  {
   "cell_type": "code",
   "execution_count": 11,
   "metadata": {
    "collapsed": false
   },
   "outputs": [
    {
     "name": "stdout",
     "output_type": "stream",
     "text": [
      "Beta zzz no Applequist: -5.2818056\n",
      "Beta zzz after Applequist: -5.30956890099\n"
     ]
    }
   ],
   "source": [
    "#get_pdlist generates the input format file for PointDipoleList automatically based on the molecules\n",
    "#in the cluster and their unit of coordinate\n",
    "\n",
    "pdlist = c.get_pdlist()\n",
    "\n",
    "print \"Beta zzz no Applequist:\", c.p.b[9]\n",
    "print \"Beta zzz after Applequist:\", pdlist.beta( cython = 1, num_threads = 4 )[2,2,2]"
   ]
  },
  {
   "cell_type": "markdown",
   "metadata": {},
   "source": [
    "Example creating a molecule, can be directly from reading a .xyz file or specifying atom by atom"
   ]
  },
  {
   "cell_type": "code",
   "execution_count": 12,
   "metadata": {
    "collapsed": false
   },
   "outputs": [],
   "source": [
    "#By default reading in coordinates in angstrom\n",
    "o2 = Molecule.from_xyz_string( \"\"\"2\\n\\nO 0 0 0\\nO 0 0 1.3\"\"\")"
   ]
  },
  {
   "cell_type": "code",
   "execution_count": 13,
   "metadata": {
    "collapsed": false
   },
   "outputs": [],
   "source": [
    "o2.to_AU()\n",
    "o2.plot()"
   ]
  },
  {
   "cell_type": "code",
   "execution_count": 14,
   "metadata": {
    "collapsed": false
   },
   "outputs": [],
   "source": [
    "o2.props_from_qm( method = 'hfqua',\n",
    "                 dalpath = DALTON,\n",
    "                 tmpdir = '/tmp',\n",
    "                )"
   ]
  },
  {
   "cell_type": "code",
   "execution_count": 15,
   "metadata": {
    "collapsed": false
   },
   "outputs": [
    {
     "name": "stdout",
     "output_type": "stream",
     "text": [
      "[  5.51446360e+00  -1.67396000e-02   0.00000000e+00   6.08339280e+00\n",
      "   0.00000000e+00   1.73507914e+01]\n",
      "True\n"
     ]
    }
   ],
   "source": [
    "print o2.p.a\n",
    "print np.allclose( np.zeros(10), o2.p.b, atol = 1e-4 )"
   ]
  },
  {
   "cell_type": "code",
   "execution_count": null,
   "metadata": {
    "collapsed": true
   },
   "outputs": [],
   "source": []
  }
 ],
 "metadata": {
  "kernelspec": {
   "display_name": "Python 2",
   "language": "python",
   "name": "python2"
  },
  "language_info": {
   "codemirror_mode": {
    "name": "ipython",
    "version": 2
   },
   "file_extension": ".py",
   "mimetype": "text/x-python",
   "name": "python",
   "nbconvert_exporter": "python",
   "pygments_lexer": "ipython2",
   "version": "2.7.11"
  }
 },
 "nbformat": 4,
 "nbformat_minor": 0
}
